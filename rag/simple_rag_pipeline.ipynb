{
 "cells": [
  {
   "cell_type": "markdown",
   "metadata": {},
   "source": [
    "### SIMPLE RAG PIPELINE"
   ]
  },
  {
   "cell_type": "markdown",
   "metadata": {},
   "source": [
    "##### Data Ingestion/Extraction\n",
    "Famouse Books, summary texts and details. Ref : https://www.sayebrand.com/blogs/stories/25famousbooks"
   ]
  },
  {
   "cell_type": "code",
   "execution_count": 3,
   "metadata": {},
   "outputs": [
    {
     "data": {
      "text/plain": [
       "[Document(metadata={'source': './books/THE BIBLE.txt'}, page_content='GENRE\\n\\nReligious Text.\\n\\nREAD IF\\n\\nYou enjoy philosophy and symbolism texts.\\n\\nFUN FACT\\n\\nOver 100 million copies of the Bible are sold each year.\\n\\nYes, The Bible is a book and is one of the most successful of all time and also one of the go-toâ€™s on deep morality. The Bible is a collection of religious texts or scriptures that have become sacred to Christians, Jews, Samaritans, Rastafari and other religious groups.\\n\\nThe influence the Bible has had on Western culture is immeasurable. For thousands of years this book has inspired the greatest writers, artists, musicians, religious leaders, painters of our time. Love it or hate it, the bible has been one of the most pivotal books of all time in the western world.')]"
      ]
     },
     "execution_count": 3,
     "metadata": {},
     "output_type": "execute_result"
    }
   ],
   "source": [
    "# Data loading, loading a single text file\n",
    "from langchain_community.document_loaders import TextLoader\n",
    "loader = TextLoader(\"./books/THE BIBLE.txt\") # Implement a loop for the texts\n",
    "text = loader.load()\n",
    "text"
   ]
  },
  {
   "cell_type": "code",
   "execution_count": null,
   "metadata": {},
   "outputs": [],
   "source": [
    "# Loading data from a PDF document\n",
    "from langchain_community.document_loaders import PyPDFLoader\n",
    "loader = PyPDFLoader(\"path_to_PDF\")\n",
    "pdfs = loader.load()\n",
    "pdfs"
   ]
  },
  {
   "cell_type": "code",
   "execution_count": null,
   "metadata": {},
   "outputs": [],
   "source": [
    "# Loading data from html pages of a website using Web based loader\n",
    "from langchain_community.document_loaders import WebBaseLoader\n",
    "import bs4\n",
    "\n",
    "loader = WebBaseLoader(web_paths=(\"url_here\"), bs_kwargs=dict(parse_only=bs4.SoupStrainer(\n",
    "    class_ = (\"post-title\", \"post-content\", \"post-header\") # Html elements on the webpage to extract\n",
    ")))\n",
    "\n",
    "html_text = loader.load()\n",
    "html_text"
   ]
  },
  {
   "cell_type": "code",
   "execution_count": 10,
   "metadata": {},
   "outputs": [
    {
     "data": {
      "text/plain": [
       "[Document(metadata={'source': 'books\\\\1984.txt'}, page_content='GENRE\\n\\nDystopian social science fiction.\\n\\nREAD IF\\n\\nYou love reading about dystopian worlds, possible futures and if youâ€™re a fan of the series Black Mirror.\\n\\nFUN FACT\\n\\nOrwell modeled the character of Julia on his second wife, Sonia Brownell.\\n\\n1984 is a dystopian social science fiction novel and is written by English novelist George Orwell. The story takes place in an imagined future (the year 1984) when much of the world has fallen victim to totalitarianism, mass surveillance, manipulation of the past and propaganda.\\n\\nThe superstate is called Oceania and is ruled by the Party who employ Thought Police, whose job it is to persecute individuality and independent thinking. Winston Smith is the protagonist of the novel and although he is a responsible and reliable worker in the system, he dreams of rebellion. When his colleague, Julia, and him begin a forbidden relationship, he begins to remember what life was like before the Party came to power.\\n\\nThe novel examines the role of truth and facts within politics and the ways in which they are manipulated. Many of the terms and concepts found throughout the book - such as Big Brother, doublethink, thoughtcrime, Newspeak, and Memory hole, have become contemporary vernacular.'),\n",
       " Document(metadata={'source': 'books\\\\HARRY POTTER SERIES.txt'}, page_content='GENRE\\n\\nFantasy Fiction.\\n\\nREAD IF\\n\\nYou are ready for a deep dive into a mysterious new world.\\n\\nFUN FACT\\n\\nJ.K. Rowling invented the names of the Hogwarts houses (the school in the book) on the back of a barf bag.\\n\\nHarry Potter is a series by British author, J. K. Rowling, and is made up of seven different novels. With the first book being published in 1997, the lives of little people around the world were changed forever. The Harry Potter world had well and truly began.\\n\\nThe series tells the story of a young wizard, Harry Potter who struggles against Lord Voldemort, a dark wizard who intends to become immortal.\\n\\nThe books have found immense popularity, positive reviews, and commercial success worldwide. They have attracted a wide adult audience as well as younger readers and are often considered cornerstones of modern young adult literature.\\n\\nAs of February 2018, the books have sold more than 500 million copies worldwide, making them the best-selling book series in history, and have been translated into eighty languages. The last four books consecutively set records as the fastest-selling books in history, with the final instalment selling roughly eleven million copies in the United States within twenty-four hours of its release.'),\n",
       " Document(metadata={'source': 'books\\\\LORD OF THE RINGS TRILOGY.txt'}, page_content='GENRE\\n\\nEpic high fantasy novel.\\n\\nREAD IF\\n\\nYou love fantasy worlds and have a passion for heavy writing, deep explanations.\\n\\nFUN FACT\\n\\nTolkien is said to have typed all 1,200 pages of The Lord of the Rings with two fingers.\\n\\nThe Lord of the Rings is an high fantasy novel, written between 1937-1949 by the English author and scholar J. R. R. Tolkien.\\n\\nAll three parts of the masterpiece are steeped in magic and otherworldliness. The epic story centres around Frodo Baggins, who is forced to leave his hometown of the Shire to make a perilous journey across the realms of Middle-earth to destroy a powerful ring, deep inside the territories of the Dark Lord. Sauron, the dark lord, has gathered all the Rings of Power, minus the one ring - the ring that rules them all - and needs this for his campaign to conquer and rule all of middle-earth. There Frodo must destroy the ring forever and foil the dark lord in his evil purpose.\\n\\nThe books have been turned into incredibly successful movies that tally up to nearly 12 hours of entertaining pleasure.'),\n",
       " Document(metadata={'source': 'books\\\\ON THE ORIGIN OF SPECIES.txt'}, page_content='GENRE\\n\\nScientific Literature.\\n\\nREAD IF\\n\\nYou are interested in how animals adapt to their environment to survive.\\n\\nFUN FACT\\n\\nIt took over 20 years for Darwin to research, develop and finally publish his book.\\n\\nThereâ€™s been a handful of controversial books that have shaken up the very ground in which we build our beliefs onâ€¦. and Charles Darwinâ€™s famous â€˜On the origin of speciesâ€™ has been like no other.\\n\\nIt all started on December 27, 1831, when the young naturalist left Plymouth Harbor aboard the HMS Beagle to spend the next (what turned out to be five long) years gallivanting around the globe conducting research on plants, animals and the environment in which they preside.\\n\\nHis adventure turned into one of the greatest discoveries in the history of mankind - the theory of evolution. What Darwin found along his travels, and what he would eventually declare to the scientific community and broader world, was that existing organisms better suited for adaptation to their environment survive, while those that are poorly suited to their environment do not.'),\n",
       " Document(metadata={'source': 'books\\\\THE ALCHEMIST.txt'}, page_content='GENRE\\n\\nQuest Adventure Novel.\\n\\nREAD IF\\n\\nYou like your personal dreams and goals to be challenged.\\n\\nFUN FACT\\n\\nPaulo Coelho wrote The Alchemist in only two weeks.\\n\\nThe Alchemist was written by brazilian author Paulo Coelho and was published in 1988. The book follows a young Andalusian shepherd, Santiago, on his journey to the Egyptian pyramids, after experiencing recurring dreams of finding a treasure there. The story delicately combines a mix of magic, mysticism, wisdom and wonder into an inspiring tale of self-discovery.\\n\\nPaulo Coelho spent years and years trying to turn his art into the modern classic we see today and has achieved success by selling millions of copies around the world.'),\n",
       " Document(metadata={'source': 'books\\\\THE BIBLE.txt'}, page_content='GENRE\\n\\nReligious Text.\\n\\nREAD IF\\n\\nYou enjoy philosophy and symbolism texts.\\n\\nFUN FACT\\n\\nOver 100 million copies of the Bible are sold each year.\\n\\nYes, The Bible is a book and is one of the most successful of all time and also one of the go-toâ€™s on deep morality. The Bible is a collection of religious texts or scriptures that have become sacred to Christians, Jews, Samaritans, Rastafari and other religious groups.\\n\\nThe influence the Bible has had on Western culture is immeasurable. For thousands of years this book has inspired the greatest writers, artists, musicians, religious leaders, painters of our time. Love it or hate it, the bible has been one of the most pivotal books of all time in the western world.'),\n",
       " Document(metadata={'source': 'books\\\\THE CATCHER IN THE RYE.txt'}, page_content='GENRE\\n\\nNovel.\\n\\nREAD IF\\n\\nYouâ€™re interested in teenage angst, emotions and development.\\n\\nFUN FACT\\n\\nAfter publishing The Catcher in the Rye, Salinger became a recluse.\\n\\nThe Catcher in the Rye, was written by J.D. Salinger and published in 1951. The novel is set around the 1950s and is narrated by a young man named Holden Caulfield, who while telling the story, makes it clear that he is undergoing treatment in a mental hospital or sanatorium. The novel details two days in the life of the 16-year-old after heâ€™s been expelled from school and touches on the emotions, instability and confusion that heâ€™s experiencing with the â€˜â€™phoninessâ€™â€™ of the adult world.\\n\\nThis novel has become a fundamental part of western curriculum as its themes of angst, alienation, and critique on superficiality in society is an important read for adolescents perhaps experiencing similar emotions. The novel also deals with complex issues of innocence, identity, belonging, loss, connection, sex, and depression.'),\n",
       " Document(metadata={'source': 'books\\\\THE GREAT GATSBY.txt'}, page_content='GENRE\\n\\nNovel (however recent times would place it in the â€˜historical fictionâ€™ category).\\n\\nREAD IF\\n\\nYou are interested in the 1920â€™s Jazz Era in the United States.\\n\\nFUN FACT\\n\\nThe book sold no more than 25,000 copies in Fitzgerald\\'s lifetime, and then 25 million copies from then on.\\n\\nThe Great Gatsby was written in 1925 by an American writer F. Scott Fitzgerald and set in the Jazz Age on Long Island. The novel depicts narrator Nick Carraway\\'s interactions with mysteriously wealthy Jay Gatsby, his obsession to reunite with his former lover, Daisy Buchanan and his love of lavish parties at a time when The New York Times noted \"gin was the national drink and sex the national obsession\".\\n\\nGenerations of readers have imagined, speculated, debated and thoroughly enjoyed the story and has become a true classic of twentieth-century literature.\\n\\nThis was Fitzgerald\\'s third book, as well as the highest achievement of his career, however It wasnâ€™t until F Scott Fitzgerald passed away that his work really began to gain interest. Eventually his book became a core part of most high school curricula in western cultures, especially American, with the strong focus of American popular culture. Numerous stage and film adaptations followed in the subsequent decades.')]"
      ]
     },
     "execution_count": 10,
     "metadata": {},
     "output_type": "execute_result"
    }
   ],
   "source": [
    "# Loading the entire directory of books with all text files, note: mention loader class or it will use default loader leading to more dependencies\n",
    "from langchain_community.document_loaders import DirectoryLoader\n",
    "\n",
    "loader = DirectoryLoader('./books/.', glob=\"**/*.txt\", loader_cls=TextLoader)\n",
    "docs = loader.load()\n",
    "docs"
   ]
  },
  {
   "cell_type": "markdown",
   "metadata": {},
   "source": [
    "##### Data Transformation"
   ]
  },
  {
   "cell_type": "code",
   "execution_count": 20,
   "metadata": {},
   "outputs": [
    {
     "name": "stdout",
     "output_type": "stream",
     "text": [
      "GENRE\n",
      "\n",
      "Dystopian social science fiction.\n",
      "\n",
      "READ IF\n",
      "\n",
      "You love reading about dystopian worlds, possible futures and if youâ€™re a fan of the series Black Mirror.\n",
      "\n",
      "FUN FACT\n",
      "\n",
      "Orwell modeled the character of Julia on his second wife, Sonia Brownell.\n"
     ]
    }
   ],
   "source": [
    "# Converting the loader data into chunks to create embeddings for the vectorDB and in extension for the LLM\n",
    "\n",
    "#Using text splitter\n",
    "from langchain.text_splitter import RecursiveCharacterTextSplitter\n",
    "\n",
    "text_splitter = RecursiveCharacterTextSplitter(chunk_size=300, chunk_overlap=50)\n",
    "documents = text_splitter.split_documents(docs)\n",
    "print(documents[0].page_content)"
   ]
  },
  {
   "cell_type": "markdown",
   "metadata": {},
   "source": [
    "##### Data Loading"
   ]
  },
  {
   "cell_type": "code",
   "execution_count": 21,
   "metadata": {},
   "outputs": [],
   "source": [
    "# # Creatin vector embeddings and VectorDB or Vector Store\n",
    "# from langchain_community.embeddings import LocalAIEmbeddings\n",
    "# from langchain_community.vectorstores import Chroma\n",
    "\n",
    "# databse = Chroma.from_documents(documents, LocalAIEmbeddings)"
   ]
  },
  {
   "cell_type": "code",
   "execution_count": null,
   "metadata": {},
   "outputs": [],
   "source": []
  }
 ],
 "metadata": {
  "kernelspec": {
   "display_name": "Python 3",
   "language": "python",
   "name": "python3"
  },
  "language_info": {
   "codemirror_mode": {
    "name": "ipython",
    "version": 3
   },
   "file_extension": ".py",
   "mimetype": "text/x-python",
   "name": "python",
   "nbconvert_exporter": "python",
   "pygments_lexer": "ipython3",
   "version": "3.12.2"
  }
 },
 "nbformat": 4,
 "nbformat_minor": 2
}
